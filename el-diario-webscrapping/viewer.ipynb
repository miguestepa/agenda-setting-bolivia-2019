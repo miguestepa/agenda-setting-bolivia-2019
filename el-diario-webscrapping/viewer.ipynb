{
 "cells": [
  {
   "cell_type": "code",
   "execution_count": 1,
   "metadata": {},
   "outputs": [],
   "source": [
    "import pandas as pd"
   ]
  },
  {
   "cell_type": "code",
   "execution_count": 2,
   "metadata": {},
   "outputs": [],
   "source": [
    "file = pd.read_csv('eldiario2019-01-01_2020-01-30.csv')"
   ]
  },
  {
   "cell_type": "code",
   "execution_count": 3,
   "metadata": {},
   "outputs": [],
   "source": [
    "df = pd.DataFrame(file)"
   ]
  },
  {
   "cell_type": "code",
   "execution_count": 7,
   "metadata": {},
   "outputs": [
    {
     "data": {
      "text/html": [
       "<div>\n",
       "<style scoped>\n",
       "    .dataframe tbody tr th:only-of-type {\n",
       "        vertical-align: middle;\n",
       "    }\n",
       "\n",
       "    .dataframe tbody tr th {\n",
       "        vertical-align: top;\n",
       "    }\n",
       "\n",
       "    .dataframe thead th {\n",
       "        text-align: right;\n",
       "    }\n",
       "</style>\n",
       "<table border=\"1\" class=\"dataframe\">\n",
       "  <thead>\n",
       "    <tr style=\"text-align: right;\">\n",
       "      <th></th>\n",
       "      <th>Unnamed: 0</th>\n",
       "      <th>article_name</th>\n",
       "      <th>article_date</th>\n",
       "      <th>article_category</th>\n",
       "      <th>article_words</th>\n",
       "      <th>article_len</th>\n",
       "      <th>article_URL</th>\n",
       "    </tr>\n",
       "  </thead>\n",
       "  <tbody>\n",
       "    <tr>\n",
       "      <th>900</th>\n",
       "      <td>900</td>\n",
       "      <td>politica.php?n=49&amp;-mas-activo-grupos-de-choque...</td>\n",
       "      <td>2019-10-29</td>\n",
       "      <td>politica</td>\n",
       "      <td>['Con', 'palos', 'piedras', 'y', 'dinamitas', ...</td>\n",
       "      <td>851</td>\n",
       "      <td>https://www.eldiario.net/noticias/2019/2019_10...</td>\n",
       "    </tr>\n",
       "  </tbody>\n",
       "</table>\n",
       "</div>"
      ],
      "text/plain": [
       "     Unnamed: 0                                       article_name  \\\n",
       "900         900  politica.php?n=49&-mas-activo-grupos-de-choque...   \n",
       "\n",
       "    article_date article_category  \\\n",
       "900   2019-10-29         politica   \n",
       "\n",
       "                                         article_words  article_len  \\\n",
       "900  ['Con', 'palos', 'piedras', 'y', 'dinamitas', ...          851   \n",
       "\n",
       "                                           article_URL  \n",
       "900  https://www.eldiario.net/noticias/2019/2019_10...  "
      ]
     },
     "execution_count": 7,
     "metadata": {},
     "output_type": "execute_result"
    }
   ],
   "source": [
    "df[df.index == 900]"
   ]
  },
  {
   "cell_type": "code",
   "execution_count": null,
   "metadata": {},
   "outputs": [],
   "source": []
  }
 ],
 "metadata": {
  "kernelspec": {
   "display_name": "Python 3",
   "language": "python",
   "name": "python3"
  },
  "language_info": {
   "codemirror_mode": {
    "name": "ipython",
    "version": 3
   },
   "file_extension": ".py",
   "mimetype": "text/x-python",
   "name": "python",
   "nbconvert_exporter": "python",
   "pygments_lexer": "ipython3",
   "version": "3.8.2"
  }
 },
 "nbformat": 4,
 "nbformat_minor": 4
}
